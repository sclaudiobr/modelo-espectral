{
  "nbformat": 4,
  "nbformat_minor": 0,
  "metadata": {
    "colab": {
      "name": "datamining_spectro.ipynb",
      "provenance": [],
      "collapsed_sections": [],
      "toc_visible": true,
      "include_colab_link": true
    },
    "language_info": {
      "codemirror_mode": {
        "name": "ipython",
        "version": 3
      },
      "file_extension": ".py",
      "mimetype": "text/x-python",
      "name": "python",
      "nbconvert_exporter": "python",
      "pygments_lexer": "ipython3",
      "version": "3.6.8"
    },
    "kernelspec": {
      "display_name": "Python 3",
      "language": "python",
      "name": "python3"
    }
  },
  "cells": [
    {
      "cell_type": "markdown",
      "metadata": {
        "id": "view-in-github",
        "colab_type": "text"
      },
      "source": [
        "<a href=\"https://colab.research.google.com/github/sclaudiobr/modelo_espectral/blob/master/datamining_spectro.ipynb\" target=\"_parent\"><img src=\"https://colab.research.google.com/assets/colab-badge.svg\" alt=\"Open In Colab\"/></a>"
      ]
    },
    {
      "cell_type": "markdown",
      "metadata": {
        "id": "5xOCVK-Mr7ql",
        "colab_type": "text"
      },
      "source": [
        "\n",
        "<p><strong>Minera&ccedil;&atilde;o de dados espectrais com bibliotecas Scikit Learn e computa&ccedil;&atilde;o na nuvem&nbsp;</strong></p>\n",
        "<p>Claudio R. O. da Silva&sup1;</p>\n"
      ]
    },
    {
      "cell_type": "markdown",
      "metadata": {
        "id": "Ky1V5rzWr7qp",
        "colab_type": "text"
      },
      "source": [
        "# 1.  Bibliotecas Básicas\n",
        "<p> As bibliotecas básicas para a elaboração do modelo devem conter as matrizes através do numpy, a importação e criação de frames com o pandas e a apresentação de gráficos através dos recurso do matplotlib e do seaborn."
      ]
    },
    {
      "cell_type": "code",
      "metadata": {
        "id": "eYbG6Ad7r7qq",
        "colab_type": "code",
        "colab": {}
      },
      "source": [
        "#Carregamento das bibliotecas\n",
        "import numpy as np \n",
        "import pandas as pd\n",
        "import matplotlib as plt\n",
        "import seaborn as sb\n",
        "%matplotlib inline"
      ],
      "execution_count": 0,
      "outputs": []
    },
    {
      "cell_type": "markdown",
      "metadata": {
        "id": "_dQfyOloDgGO",
        "colab_type": "text"
      },
      "source": [
        "# Carregar dados direto do GitHub"
      ]
    },
    {
      "cell_type": "code",
      "metadata": {
        "id": "XjqvTl20DnvX",
        "colab_type": "code",
        "colab": {}
      },
      "source": [
        "uri = \"https://raw.githubusercontent.com/sclaudiobr/modelo_espectral/master/modelo_vis_nir.csv\"\n",
        "spc = pd.read_csv(uri)"
      ],
      "execution_count": 0,
      "outputs": []
    },
    {
      "cell_type": "code",
      "metadata": {
        "id": "tuwr62piI5sg",
        "colab_type": "code",
        "outputId": "524ae901-ac05-4c77-ff53-e69531f6ed81",
        "colab": {
          "base_uri": "https://localhost:8080/",
          "height": 33
        }
      },
      "source": [
        "spc.columns"
      ],
      "execution_count": 0,
      "outputs": [
        {
          "output_type": "execute_result",
          "data": {
            "text/plain": [
              "Index(['classes', 'visivel', 'infravermelho'], dtype='object')"
            ]
          },
          "metadata": {
            "tags": []
          },
          "execution_count": 5
        }
      ]
    },
    {
      "cell_type": "code",
      "metadata": {
        "id": "OaJqUnUcKAEx",
        "colab_type": "code",
        "colab": {}
      },
      "source": [
        "spc.columns = ['classes', 'visivel','infravermelho']"
      ],
      "execution_count": 0,
      "outputs": []
    },
    {
      "cell_type": "markdown",
      "metadata": {
        "id": "sfGBhUSWr7q3",
        "colab_type": "text"
      },
      "source": [
        "# Imprimir os dados na tela"
      ]
    },
    {
      "cell_type": "code",
      "metadata": {
        "id": "FWkr3FdIImOL",
        "colab_type": "code",
        "outputId": "a6e00749-dfd5-4cb3-91df-7943e312d463",
        "colab": {
          "base_uri": "https://localhost:8080/",
          "height": 197
        }
      },
      "source": [
        "spc.head()\n",
        "#print(spc[:11])"
      ],
      "execution_count": 0,
      "outputs": [
        {
          "output_type": "execute_result",
          "data": {
            "text/html": [
              "<div>\n",
              "<style scoped>\n",
              "    .dataframe tbody tr th:only-of-type {\n",
              "        vertical-align: middle;\n",
              "    }\n",
              "\n",
              "    .dataframe tbody tr th {\n",
              "        vertical-align: top;\n",
              "    }\n",
              "\n",
              "    .dataframe thead th {\n",
              "        text-align: right;\n",
              "    }\n",
              "</style>\n",
              "<table border=\"1\" class=\"dataframe\">\n",
              "  <thead>\n",
              "    <tr style=\"text-align: right;\">\n",
              "      <th></th>\n",
              "      <th>classes</th>\n",
              "      <th>visivel</th>\n",
              "      <th>infravermelho</th>\n",
              "    </tr>\n",
              "  </thead>\n",
              "  <tbody>\n",
              "    <tr>\n",
              "      <th>0</th>\n",
              "      <td>Grama</td>\n",
              "      <td>0.067121</td>\n",
              "      <td>0.362855</td>\n",
              "    </tr>\n",
              "    <tr>\n",
              "      <th>1</th>\n",
              "      <td>Grama</td>\n",
              "      <td>0.067646</td>\n",
              "      <td>0.370370</td>\n",
              "    </tr>\n",
              "    <tr>\n",
              "      <th>2</th>\n",
              "      <td>Grama</td>\n",
              "      <td>0.068293</td>\n",
              "      <td>0.370370</td>\n",
              "    </tr>\n",
              "    <tr>\n",
              "      <th>3</th>\n",
              "      <td>Grama</td>\n",
              "      <td>0.068530</td>\n",
              "      <td>0.371940</td>\n",
              "    </tr>\n",
              "    <tr>\n",
              "      <th>4</th>\n",
              "      <td>Grama</td>\n",
              "      <td>0.068232</td>\n",
              "      <td>0.370612</td>\n",
              "    </tr>\n",
              "  </tbody>\n",
              "</table>\n",
              "</div>"
            ],
            "text/plain": [
              "  classes   visivel  infravermelho\n",
              "0   Grama  0.067121       0.362855\n",
              "1   Grama  0.067646       0.370370\n",
              "2   Grama  0.068293       0.370370\n",
              "3   Grama  0.068530       0.371940\n",
              "4   Grama  0.068232       0.370612"
            ]
          },
          "metadata": {
            "tags": []
          },
          "execution_count": 10
        }
      ]
    },
    {
      "cell_type": "code",
      "metadata": {
        "id": "tZnANuVYML_C",
        "colab_type": "code",
        "colab": {}
      },
      "source": [
        "cls = spc[\"classes\"].unique()"
      ],
      "execution_count": 0,
      "outputs": []
    },
    {
      "cell_type": "code",
      "metadata": {
        "id": "CaF49gjRM9Kd",
        "colab_type": "code",
        "outputId": "bc09279d-4dc5-484e-a635-e86eb883dcfd",
        "colab": {
          "base_uri": "https://localhost:8080/",
          "height": 33
        }
      },
      "source": [
        "print(cls,cls.shape)"
      ],
      "execution_count": 0,
      "outputs": [
        {
          "output_type": "stream",
          "text": [
            "['Grama' 'Solo exposto' 'Brita' 'Vegetacao' 'Solo umido' 'Asfalto'] (6,)\n"
          ],
          "name": "stdout"
        }
      ]
    },
    {
      "cell_type": "markdown",
      "metadata": {
        "id": "MX9-sdnqr7rC",
        "colab_type": "text"
      },
      "source": [
        "# Estatística dos  dados"
      ]
    },
    {
      "cell_type": "code",
      "metadata": {
        "scrolled": true,
        "id": "gjnS3CRar7rD",
        "colab_type": "code",
        "outputId": "723de88e-e2c4-44d2-fa7e-0c863fd23bdd",
        "colab": {
          "base_uri": "https://localhost:8080/",
          "height": 287
        }
      },
      "source": [
        "spc.describe()"
      ],
      "execution_count": 0,
      "outputs": [
        {
          "output_type": "execute_result",
          "data": {
            "text/html": [
              "<div>\n",
              "<style scoped>\n",
              "    .dataframe tbody tr th:only-of-type {\n",
              "        vertical-align: middle;\n",
              "    }\n",
              "\n",
              "    .dataframe tbody tr th {\n",
              "        vertical-align: top;\n",
              "    }\n",
              "\n",
              "    .dataframe thead th {\n",
              "        text-align: right;\n",
              "    }\n",
              "</style>\n",
              "<table border=\"1\" class=\"dataframe\">\n",
              "  <thead>\n",
              "    <tr style=\"text-align: right;\">\n",
              "      <th></th>\n",
              "      <th>visivel</th>\n",
              "      <th>infravermelho</th>\n",
              "    </tr>\n",
              "  </thead>\n",
              "  <tbody>\n",
              "    <tr>\n",
              "      <th>count</th>\n",
              "      <td>160.000000</td>\n",
              "      <td>160.000000</td>\n",
              "    </tr>\n",
              "    <tr>\n",
              "      <th>mean</th>\n",
              "      <td>0.079868</td>\n",
              "      <td>0.205449</td>\n",
              "    </tr>\n",
              "    <tr>\n",
              "      <th>std</th>\n",
              "      <td>0.044285</td>\n",
              "      <td>0.063449</td>\n",
              "    </tr>\n",
              "    <tr>\n",
              "      <th>min</th>\n",
              "      <td>0.015128</td>\n",
              "      <td>0.112546</td>\n",
              "    </tr>\n",
              "    <tr>\n",
              "      <th>25%</th>\n",
              "      <td>0.052743</td>\n",
              "      <td>0.160680</td>\n",
              "    </tr>\n",
              "    <tr>\n",
              "      <th>50%</th>\n",
              "      <td>0.064622</td>\n",
              "      <td>0.217855</td>\n",
              "    </tr>\n",
              "    <tr>\n",
              "      <th>75%</th>\n",
              "      <td>0.101526</td>\n",
              "      <td>0.229270</td>\n",
              "    </tr>\n",
              "    <tr>\n",
              "      <th>max</th>\n",
              "      <td>0.168822</td>\n",
              "      <td>0.385517</td>\n",
              "    </tr>\n",
              "  </tbody>\n",
              "</table>\n",
              "</div>"
            ],
            "text/plain": [
              "          visivel  infravermelho\n",
              "count  160.000000     160.000000\n",
              "mean     0.079868       0.205449\n",
              "std      0.044285       0.063449\n",
              "min      0.015128       0.112546\n",
              "25%      0.052743       0.160680\n",
              "50%      0.064622       0.217855\n",
              "75%      0.101526       0.229270\n",
              "max      0.168822       0.385517"
            ]
          },
          "metadata": {
            "tags": []
          },
          "execution_count": 13
        }
      ]
    },
    {
      "cell_type": "code",
      "metadata": {
        "id": "KwCJfGHyNxM0",
        "colab_type": "code",
        "outputId": "e6c9840b-d070-41f4-9c41-30bc1dfdafe2",
        "colab": {
          "base_uri": "https://localhost:8080/",
          "height": 150
        }
      },
      "source": [
        "np.array(spc.describe())"
      ],
      "execution_count": 0,
      "outputs": [
        {
          "output_type": "execute_result",
          "data": {
            "text/plain": [
              "array([[1.60000000e+02, 1.60000000e+02],\n",
              "       [7.98675617e-02, 2.05448872e-01],\n",
              "       [4.42848832e-02, 6.34494046e-02],\n",
              "       [1.51280377e-02, 1.12545732e-01],\n",
              "       [5.27433639e-02, 1.60679676e-01],\n",
              "       [6.46221886e-02, 2.17855107e-01],\n",
              "       [1.01525628e-01, 2.29269646e-01],\n",
              "       [1.68822364e-01, 3.85516750e-01]])"
            ]
          },
          "metadata": {
            "tags": []
          },
          "execution_count": 30
        }
      ]
    },
    {
      "cell_type": "code",
      "metadata": {
        "id": "hmubt5Vj5jpV",
        "colab_type": "code",
        "outputId": "ba0da2bc-ecf3-4812-b3b9-4fbb3b0e96da",
        "colab": {
          "base_uri": "https://localhost:8080/",
          "height": 368
        }
      },
      "source": [
        "sb.catplot(x=\"classes\", y=\"visivel\", kind=\"boxen\",\n",
        "            data=spc.sort_values(\"classes\"));"
      ],
      "execution_count": 0,
      "outputs": [
        {
          "output_type": "display_data",
          "data": {
            "image/png": "[encoded data removed]",
            "text/plain": [
              "<Figure size 360x360 with 1 Axes>"
            ]
          },
          "metadata": {
            "tags": []
          }
        }
      ]
    },
    {
      "cell_type": "code",
      "metadata": {
        "id": "X9S3MIGU6_Dx",
        "colab_type": "code",
        "outputId": "fbe35633-9039-424e-a58c-c5c39909c91b",
        "colab": {
          "base_uri": "https://localhost:8080/",
          "height": 368
        }
      },
      "source": [
        "sb.catplot(x=\"classes\", y=\"infravermelho\", kind=\"boxen\",\n",
        "            data=spc.sort_values(\"classes\"));"
      ],
      "execution_count": 0,
      "outputs": [
        {
          "output_type": "display_data",
          "data": {
            "image/png": "[encoded data removed]",
            "text/plain": [
              "<Figure size 360x360 with 1 Axes>"
            ]
          },
          "metadata": {
            "tags": []
          }
        }
      ]
    },
    {
      "cell_type": "code",
      "metadata": {
        "id": "aGpXq_W3r7rK",
        "colab_type": "code",
        "outputId": "73bc22e5-139a-4cba-c544-be58e5b12eaf",
        "colab": {
          "base_uri": "https://localhost:8080/",
          "height": 385
        }
      },
      "source": [
        "sb.catplot(data=spc, orient=\"v\",kind=\"box\")\n",
        "#sb.stripplot(data=spc)\n",
        "#sb.boxenplot(data=spc)\n"
      ],
      "execution_count": 0,
      "outputs": [
        {
          "output_type": "execute_result",
          "data": {
            "text/plain": [
              "<seaborn.axisgrid.FacetGrid at 0x7f4a46cf9cf8>"
            ]
          },
          "metadata": {
            "tags": []
          },
          "execution_count": 44
        },
        {
          "output_type": "display_data",
          "data": {
            "image/png": "[encoded data removed]",
            "text/plain": [
              "<Figure size 360x360 with 1 Axes>"
            ]
          },
          "metadata": {
            "tags": []
          }
        }
      ]
    },
    {
      "cell_type": "code",
      "metadata": {
        "id": "dNqq9nZtr7rS",
        "colab_type": "code",
        "outputId": "f21f6bad-31dc-4f4a-8c77-1cdbe87e0bfc",
        "colab": {
          "base_uri": "https://localhost:8080/",
          "height": 385
        }
      },
      "source": [
        "sb.pairplot(data=spc, hue='classes',kind = \"scatter\")"
      ],
      "execution_count": 0,
      "outputs": [
        {
          "output_type": "execute_result",
          "data": {
            "text/plain": [
              "<seaborn.axisgrid.PairGrid at 0x7f4a46b6f710>"
            ]
          },
          "metadata": {
            "tags": []
          },
          "execution_count": 45
        },
        {
          "output_type": "display_data",
          "data": {
            "image/png": "[encoded data removed]",
            "text/plain": [
              "<Figure size 459.625x360 with 6 Axes>"
            ]
          },
          "metadata": {
            "tags": []
          }
        }
      ]
    },
    {
      "cell_type": "markdown",
      "metadata": {
        "id": "IXFed36hr7rY",
        "colab_type": "text"
      },
      "source": [
        "# Selecão dos valores para classificação supervisionada em um array no Numpy"
      ]
    },
    {
      "cell_type": "code",
      "metadata": {
        "id": "2sdS38kor7ra",
        "colab_type": "code",
        "outputId": "1904417d-2657-4b66-8d50-6ad25c790600",
        "colab": {
          "base_uri": "https://localhost:8080/",
          "height": 333
        }
      },
      "source": [
        "x = np.array(spc.drop('classes',1))\n",
        "x[1:20]"
      ],
      "execution_count": 0,
      "outputs": [
        {
          "output_type": "execute_result",
          "data": {
            "text/plain": [
              "array([[0.06764623, 0.3703699 ],\n",
              "       [0.06829264, 0.3703699 ],\n",
              "       [0.0685303 , 0.37193987],\n",
              "       [0.06823197, 0.37061186],\n",
              "       [0.06801352, 0.36895388],\n",
              "       [0.06788966, 0.3666568 ],\n",
              "       [0.06782207, 0.36671311],\n",
              "       [0.06841119, 0.37139418],\n",
              "       [0.06870988, 0.37211661],\n",
              "       [0.05285735, 0.15115339],\n",
              "       [0.05720971, 0.16540832],\n",
              "       [0.0585804 , 0.16865555],\n",
              "       [0.05670028, 0.16314804],\n",
              "       [0.05282191, 0.15095999],\n",
              "       [0.04935865, 0.14030188],\n",
              "       [0.04849751, 0.13711519],\n",
              "       [0.04749549, 0.13400405],\n",
              "       [0.04570688, 0.12917283],\n",
              "       [0.04789454, 0.13581435]])"
            ]
          },
          "metadata": {
            "tags": []
          },
          "execution_count": 46
        }
      ]
    },
    {
      "cell_type": "markdown",
      "metadata": {
        "id": "xTCk8eZvr7rg",
        "colab_type": "text"
      },
      "source": [
        "# Seleção das \"Classes\" para uma array através do Numpy"
      ]
    },
    {
      "cell_type": "code",
      "metadata": {
        "id": "iEP8Nb8ur7rh",
        "colab_type": "code",
        "outputId": "16cf3f98-368f-4d6e-ed7e-72e98f5482ed",
        "colab": {
          "base_uri": "https://localhost:8080/",
          "height": 133
        }
      },
      "source": [
        "y = np.array(spc.classes)\n",
        "y[1:40]"
      ],
      "execution_count": 0,
      "outputs": [
        {
          "output_type": "execute_result",
          "data": {
            "text/plain": [
              "array(['Grama', 'Grama', 'Grama', 'Grama', 'Grama', 'Grama', 'Grama',\n",
              "       'Grama', 'Grama', 'Solo exposto', 'Solo exposto', 'Solo exposto',\n",
              "       'Solo exposto', 'Solo exposto', 'Solo exposto', 'Solo exposto',\n",
              "       'Solo exposto', 'Solo exposto', 'Solo exposto', 'Brita', 'Brita',\n",
              "       'Brita', 'Brita', 'Brita', 'Brita', 'Brita', 'Brita', 'Brita',\n",
              "       'Brita', 'Grama', 'Grama', 'Grama', 'Grama', 'Grama', 'Grama',\n",
              "       'Grama', 'Grama', 'Grama', 'Grama'], dtype=object)"
            ]
          },
          "metadata": {
            "tags": []
          },
          "execution_count": 47
        }
      ]
    },
    {
      "cell_type": "markdown",
      "metadata": {
        "id": "TuKyTfjmr7rn",
        "colab_type": "text"
      },
      "source": [
        "# Bibliotecas de Modelagem\n"
      ]
    },
    {
      "cell_type": "code",
      "metadata": {
        "id": "f-raGzFTr7ro",
        "colab_type": "code",
        "colab": {}
      },
      "source": [
        "from sklearn.neighbors import KNeighborsClassifier\n",
        "from sklearn.tree import DecisionTreeClassifier\n",
        "from sklearn.ensemble import AdaBoostClassifier\n",
        "from sklearn.ensemble import RandomForestClassifier\n",
        "\n",
        "# Importando a função train_test_split \n",
        "from sklearn.model_selection import train_test_split\n",
        "\n",
        "#Importando o módulo de metricas de cálculo acurácia do scikit-learn\n",
        "from sklearn import metrics\n",
        "\n",
        "\n",
        "# Dividindo o banco de dados em treinamento e teste (x,y, tamanho)\n",
        "X_train, X_test, y_train, y_test = train_test_split(x, y, test_size=0.3) # 70% para treino e 30% teste\n",
        "\n",
        "knn = KNeighborsClassifier(n_neighbors=5, algorithm ='ball_tree')\n",
        "dtr = DecisionTreeClassifier()\n",
        "adb = AdaBoostClassifier(n_estimators=20, random_state=1)\n",
        "rdf = RandomForestClassifier(n_estimators=100, max_depth=2, random_state=0)"
      ],
      "execution_count": 0,
      "outputs": []
    },
    {
      "cell_type": "markdown",
      "metadata": {
        "id": "W62F8wrjr7rx",
        "colab_type": "text"
      },
      "source": [
        "# Treinamento  do classificador"
      ]
    },
    {
      "cell_type": "code",
      "metadata": {
        "id": "ta3GmUiBr7ry",
        "colab_type": "code",
        "outputId": "83ddf1e8-3493-4c06-9e32-c10c776d3db6",
        "colab": {
          "base_uri": "https://localhost:8080/",
          "height": 133
        }
      },
      "source": [
        "knn.fit(X_train,y_train)\n",
        "dtr.fit(X_train,y_train)\n",
        "adb.fit(X_train,y_train)\n",
        "rdf.fit(X_train,y_train)"
      ],
      "execution_count": 0,
      "outputs": [
        {
          "output_type": "execute_result",
          "data": {
            "text/plain": [
              "RandomForestClassifier(bootstrap=True, class_weight=None, criterion='gini',\n",
              "                       max_depth=2, max_features='auto', max_leaf_nodes=None,\n",
              "                       min_impurity_decrease=0.0, min_impurity_split=None,\n",
              "                       min_samples_leaf=1, min_samples_split=2,\n",
              "                       min_weight_fraction_leaf=0.0, n_estimators=100,\n",
              "                       n_jobs=None, oob_score=False, random_state=0, verbose=0,\n",
              "                       warm_start=False)"
            ]
          },
          "metadata": {
            "tags": []
          },
          "execution_count": 49
        }
      ]
    },
    {
      "cell_type": "markdown",
      "metadata": {
        "id": "3rwPE7s_r7r8",
        "colab_type": "text"
      },
      "source": [
        "# Predição de classe através de uma informação de entrada"
      ]
    },
    {
      "cell_type": "code",
      "metadata": {
        "id": "nVLYP2u3r7r_",
        "colab_type": "code",
        "colab": {}
      },
      "source": [
        "y_predknn = knn.predict(X_test)\n",
        "y_preddtr = dtr.predict(X_test)\n",
        "y_predadb = adb.predict(X_test)\n",
        "y_predrdf = rdf.predict(X_test)"
      ],
      "execution_count": 0,
      "outputs": []
    },
    {
      "cell_type": "markdown",
      "metadata": {
        "id": "pAw77AzkUXyg",
        "colab_type": "text"
      },
      "source": [
        "# Acurácia dos dados preditos sobre os dados  de teste (y_teste)"
      ]
    },
    {
      "cell_type": "code",
      "metadata": {
        "id": "tpGau0v3r7sF",
        "colab_type": "code",
        "outputId": "8d858efe-52ed-4d88-f54f-869e0085cb0e",
        "colab": {
          "base_uri": "https://localhost:8080/",
          "height": 83
        }
      },
      "source": [
        "# Modelo de acurácia dos dados preditos sobre os dados  de teste (y_teste)\n",
        "print(\" K-nearest Neighbors :\",metrics.accuracy_score(y_test, y_predknn)) # método knn\n",
        "print(\" Decision Trees      :\",metrics.accuracy_score(y_test, y_preddtr)) # método de árvore de decisão\n",
        "print(\" Ada Boost           :\",metrics.accuracy_score(y_test, y_predadb)) # método de adaboost\n",
        "print(\" Random Forest       :\",metrics.accuracy_score(y_test, y_predrdf)) # método de randomForest"
      ],
      "execution_count": 0,
      "outputs": [
        {
          "output_type": "stream",
          "text": [
            " K-nearest Neighbors : 0.9166666666666666\n",
            " Decision Trees      : 0.9583333333333334\n",
            " Ada Boost           : 0.4375\n",
            " Random Forest       : 0.8333333333333334\n"
          ],
          "name": "stdout"
        }
      ]
    },
    {
      "cell_type": "markdown",
      "metadata": {
        "id": "4RI3aSfhUy4A",
        "colab_type": "text"
      },
      "source": [
        "# Matriz de confusão"
      ]
    },
    {
      "cell_type": "code",
      "metadata": {
        "id": "horYzoPBr7sT",
        "colab_type": "code",
        "outputId": "f648f891-ee96-49ef-ef05-f1f526c30868",
        "colab": {
          "base_uri": "https://localhost:8080/",
          "height": 483
        }
      },
      "source": [
        "from sklearn.metrics import confusion_matrix\n",
        "print(\"==\",\" KNN \",\"=\",metrics.accuracy_score(y_test, y_predknn))\n",
        "print(confusion_matrix(y_test, y_predknn))\n",
        "print(\"==\",\" DTR \",\"=\",metrics.accuracy_score(y_test, y_preddtr))\n",
        "print(confusion_matrix(y_test, y_preddtr))\n",
        "print(\"==\",\" ADB \",\"=\",metrics.accuracy_score(y_test, y_predadb))\n",
        "print(confusion_matrix(y_test, y_predadb))\n",
        "print(\"==\",\" RDF \",\"=\",metrics.accuracy_score(y_test, y_predrdf))\n",
        "print(confusion_matrix(y_test, y_predrdf))     "
      ],
      "execution_count": 0,
      "outputs": [
        {
          "output_type": "stream",
          "text": [
            "==  KNN  = 0.9166666666666666\n",
            "[[ 4  1  0  0  0  0]\n",
            " [ 0  8  0  1  0  0]\n",
            " [ 0  0  5  1  1  0]\n",
            " [ 0  0  0 13  0  0]\n",
            " [ 0  0  0  0 11  0]\n",
            " [ 0  0  0  0  0  3]]\n",
            "==  DTR  = 0.9583333333333334\n",
            "[[ 4  1  0  0  0  0]\n",
            " [ 1  8  0  0  0  0]\n",
            " [ 0  0  7  0  0  0]\n",
            " [ 0  0  0 13  0  0]\n",
            " [ 0  0  0  0 11  0]\n",
            " [ 0  0  0  0  0  3]]\n",
            "==  ADB  = 0.4375\n",
            "[[ 5  0  0  0  0  0]\n",
            " [ 9  0  0  0  0  0]\n",
            " [ 0  0  0  7  0  0]\n",
            " [ 0  0  0 13  0  0]\n",
            " [ 0  0  0 11  0  0]\n",
            " [ 0  0  0  0  0  3]]\n",
            "==  RDF  = 0.8333333333333334\n",
            "[[ 3  2  0  0  0  0]\n",
            " [ 0  9  0  0  0  0]\n",
            " [ 0  0  4  2  1  0]\n",
            " [ 0  0  0 13  0  0]\n",
            " [ 0  0  0  0 11  0]\n",
            " [ 0  0  3  0  0  0]]\n"
          ],
          "name": "stdout"
        }
      ]
    },
    {
      "cell_type": "code",
      "metadata": {
        "id": "BTzcYpDJr7sd",
        "colab_type": "code",
        "colab": {}
      },
      "source": [
        ""
      ],
      "execution_count": 0,
      "outputs": []
    },
    {
      "cell_type": "code",
      "metadata": {
        "id": "dPxP96nCr7sh",
        "colab_type": "code",
        "colab": {}
      },
      "source": [
        ""
      ],
      "execution_count": 0,
      "outputs": []
    }
  ]
}