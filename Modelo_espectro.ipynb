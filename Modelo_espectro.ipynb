{
  "nbformat": 4,
  "nbformat_minor": 0,
  "metadata": {
    "colab": {
      "name": "Modelo_espectro.ipynb",
      "version": "0.3.2",
      "provenance": [],
      "collapsed_sections": [],
      "toc_visible": true,
      "include_colab_link": true
    },
    "language_info": {
      "codemirror_mode": {
        "name": "ipython",
        "version": 3
      },
      "file_extension": ".py",
      "mimetype": "text/x-python",
      "name": "python",
      "nbconvert_exporter": "python",
      "pygments_lexer": "ipython3",
      "version": "3.6.8"
    },
    "kernelspec": {
      "display_name": "Python 3",
      "language": "python",
      "name": "python3"
    }
  },
  "cells": [
    {
      "cell_type": "markdown",
      "metadata": {
        "id": "view-in-github",
        "colab_type": "text"
      },
      "source": [
        "<a href=\"https://colab.research.google.com/github/sclaudiobr/modelo_espectral/blob/master/Modelo_espectro.ipynb\" target=\"_parent\"><img src=\"https://colab.research.google.com/assets/colab-badge.svg\" alt=\"Open In Colab\"/></a>"
      ]
    },
    {
      "cell_type": "markdown",
      "metadata": {
        "id": "5xOCVK-Mr7ql",
        "colab_type": "text"
      },
      "source": [
        "<p><strong>Minera&ccedil;&atilde;o de dados espectrais com bibliotecas Scikit Learn e computa&ccedil;&atilde;o na nuvem&nbsp;</strong></p>\n",
        "<p><span style=\"font-weight: 400;\">Claudio R. O. da Silva&sup1;</span></p>\n",
        "<p style=\"text-align: justify;\">Este trabalho traz os passos necess&aacute;rios para elaborar o modelo de predi&ccedil;&atilde;o na linguagem de programa&ccedil;&atilde;o python atrav&eacute;s da plataforma de computa&ccedil;&atilde;o de c&oacute;digo aberto <a href=\"https://colab.research.google.com/notebooks/welcome.ipynb#recent=true\">Collaboratory</a> e bibliotecas de aquisi&ccedil;&atilde;o, processamento e apresenta&ccedil;&atilde;o dos dados. As&nbsp;classes de solo exposto, solo &uacute;mido, grama, vegeta&ccedil;&atilde;o arbustiva, brita e asfalto foram amostradas<span style=\"font-weight: 400;\">&nbsp;com o sensor &ldquo;FieldSpec HandHeldII\". Este instrumento cobre o intervalo espectral de 300 nm a 1.3 micron em varredura cont&iacute;nua com resolu&ccedil;&atilde;o espectral de 1 nm entre 300 nm e 1300 nm. Maiores detalhes sobre os m&eacute;todos de aquisi&ccedil;&atilde;o podem ser encontradas no manual do aparelho ASD (2010).&nbsp;</span><span style=\"font-weight: 400;\">&nbsp;Executado o fatiamento nos intervalos equivalentes aos intervalos estabelecidos na regi&atilde;o do espectro do vis&iacute;vel (VIS) e do infravermelho pr&oacute;ximo (NIR). As sec&ccedil;&otilde;es resultantes do fatiamento considerou as sec&ccedil;&otilde;es do vis&iacute;vel (0,43-0,68m) e do infravermelho pr&oacute;ximo (0,85-0,88m) discretizadas nas classes denominadas VIS e NIR.</span>&nbsp;Siga o roteiro de descrito nos t&oacute;picos de cada c&oacute;digo que deve ser executado sequancialmente para a aobten&ccedil;&atilde;o do resultados.</p>"
      ]
    },
    {
      "cell_type": "markdown",
      "metadata": {
        "id": "Ky1V5rzWr7qp",
        "colab_type": "text"
      },
      "source": [
        "# 1.  Bibliotecas Básicas"
      ]
    },
    {
      "cell_type": "code",
      "metadata": {
        "id": "eYbG6Ad7r7qq",
        "colab_type": "code",
        "colab": {}
      },
      "source": [
        "#Carregamento das bibliotecas\n",
        "import numpy as np \n",
        "import pandas as pd\n",
        "import matplotlib as plt\n",
        "import seaborn as sb\n",
        "%matplotlib inline\n",
        "from google.colab import drive"
      ],
      "execution_count": 0,
      "outputs": []
    },
    {
      "cell_type": "markdown",
      "metadata": {
        "id": "5P7TgUvar7qw",
        "colab_type": "text"
      },
      "source": [
        "# 2.  Carregar os dados do arquivo CSV\n",
        "\n",
        "Use a aplicação Google para buscar o arquivo baixado ou arraste o arquivo para aba \"Files\" do navegado no seu ambiente Colaboratory. Podendo ser tambem baixado neste [link.](https://drive.google.com/file/d/110dsbs4jx55T_CPLAvBQ33Igc43fD2zR/view?usp=sharing)"
      ]
    },
    {
      "cell_type": "code",
      "metadata": {
        "id": "ulg0ESVOR31n",
        "colab_type": "code",
        "outputId": "5edc6892-8674-4b96-fc76-4c2ed788c249",
        "colab": {
          "resources": {
            "http://localhost:8080/nbextensions/google.colab/files.js": {
              "data": "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",
              "ok": true,
              "headers": [
                [
                  "content-type",
                  "application/javascript"
                ]
              ],
              "status": 200,
              "status_text": ""
            }
          },
          "base_uri": "https://localhost:8080/",
          "height": 93
        }
      },
      "source": [
        "from google.colab import files\n",
        "uploaded = files.upload()\n",
        "for fn in uploaded.keys():\n",
        "  print('User uploaded file \"{name}\" with length {length} bytes'.format(\n",
        "      name=fn, length=len(uploaded[fn])))"
      ],
      "execution_count": 0,
      "outputs": [
        {
          "output_type": "display_data",
          "data": {
            "text/html": [
              "\n",
              "     <input type=\"file\" id=\"files-123d1b1a-e7dc-45af-958b-9f0d7dd9acfe\" name=\"files[]\" multiple disabled />\n",
              "     <output id=\"result-123d1b1a-e7dc-45af-958b-9f0d7dd9acfe\">\n",
              "      Upload widget is only available when the cell has been executed in the\n",
              "      current browser session. Please rerun this cell to enable.\n",
              "      </output>\n",
              "      <script src=\"/nbextensions/google.colab/files.js\"></script> "
            ],
            "text/plain": [
              "<IPython.core.display.HTML object>"
            ]
          },
          "metadata": {
            "tags": []
          }
        },
        {
          "output_type": "stream",
          "text": [
            "Saving modelo_vis_nir.csv to modelo_vis_nir.csv\n",
            "User uploaded file \"modelo_vis_nir.csv\" with length 5903 bytes\n"
          ],
          "name": "stdout"
        }
      ]
    },
    {
      "cell_type": "markdown",
      "metadata": {
        "id": "_Y_QnYSZP_Uu",
        "colab_type": "text"
      },
      "source": [
        "Leitura do Arquivo CSV no diretório raíz do seu ambiente Collaboratory."
      ]
    },
    {
      "cell_type": "code",
      "metadata": {
        "id": "XaNvxCg2ylJ0",
        "colab_type": "code",
        "colab": {}
      },
      "source": [
        "spc = pd.read_csv('modelo_vis_nir.csv') # carregando aqrqui csv copiado o google drive ( esta é uma cópia temporária)"
      ],
      "execution_count": 0,
      "outputs": []
    },
    {
      "cell_type": "markdown",
      "metadata": {
        "id": "sfGBhUSWr7q3",
        "colab_type": "text"
      },
      "source": [
        "# Imprimir os dados na tela"
      ]
    },
    {
      "cell_type": "code",
      "metadata": {
        "id": "zhZ5h9sRr7q5",
        "colab_type": "code",
        "outputId": "0f975b91-059a-4c35-9efd-a2b2a8e228ba",
        "colab": {
          "base_uri": "https://localhost:8080/",
          "height": 374
        }
      },
      "source": [
        "print(spc[:20])"
      ],
      "execution_count": 6,
      "outputs": [
        {
          "output_type": "stream",
          "text": [
            "         classes       VIS       NIR\n",
            "0          Grama  0.067121  0.362855\n",
            "1          Grama  0.067646  0.370370\n",
            "2          Grama  0.068293  0.370370\n",
            "3          Grama  0.068530  0.371940\n",
            "4          Grama  0.068232  0.370612\n",
            "5          Grama  0.068014  0.368954\n",
            "6          Grama  0.067890  0.366657\n",
            "7          Grama  0.067822  0.366713\n",
            "8          Grama  0.068411  0.371394\n",
            "9          Grama  0.068710  0.372117\n",
            "10  Solo exposto  0.052857  0.151153\n",
            "11  Solo exposto  0.057210  0.165408\n",
            "12  Solo exposto  0.058580  0.168656\n",
            "13  Solo exposto  0.056700  0.163148\n",
            "14  Solo exposto  0.052822  0.150960\n",
            "15  Solo exposto  0.049359  0.140302\n",
            "16  Solo exposto  0.048498  0.137115\n",
            "17  Solo exposto  0.047495  0.134004\n",
            "18  Solo exposto  0.045707  0.129173\n",
            "19  Solo exposto  0.047895  0.135814\n"
          ],
          "name": "stdout"
        }
      ]
    },
    {
      "cell_type": "markdown",
      "metadata": {
        "id": "MX9-sdnqr7rC",
        "colab_type": "text"
      },
      "source": [
        "# Estatística dos  dados"
      ]
    },
    {
      "cell_type": "code",
      "metadata": {
        "scrolled": true,
        "id": "gjnS3CRar7rD",
        "colab_type": "code",
        "outputId": "ea37d629-c1e4-483e-91ca-7c209f14c773",
        "colab": {
          "base_uri": "https://localhost:8080/",
          "height": 297
        }
      },
      "source": [
        "spc.describe()"
      ],
      "execution_count": 7,
      "outputs": [
        {
          "output_type": "execute_result",
          "data": {
            "text/html": [
              "<div>\n",
              "<style scoped>\n",
              "    .dataframe tbody tr th:only-of-type {\n",
              "        vertical-align: middle;\n",
              "    }\n",
              "\n",
              "    .dataframe tbody tr th {\n",
              "        vertical-align: top;\n",
              "    }\n",
              "\n",
              "    .dataframe thead th {\n",
              "        text-align: right;\n",
              "    }\n",
              "</style>\n",
              "<table border=\"1\" class=\"dataframe\">\n",
              "  <thead>\n",
              "    <tr style=\"text-align: right;\">\n",
              "      <th></th>\n",
              "      <th>VIS</th>\n",
              "      <th>NIR</th>\n",
              "    </tr>\n",
              "  </thead>\n",
              "  <tbody>\n",
              "    <tr>\n",
              "      <th>count</th>\n",
              "      <td>160.000000</td>\n",
              "      <td>160.000000</td>\n",
              "    </tr>\n",
              "    <tr>\n",
              "      <th>mean</th>\n",
              "      <td>0.079868</td>\n",
              "      <td>0.205449</td>\n",
              "    </tr>\n",
              "    <tr>\n",
              "      <th>std</th>\n",
              "      <td>0.044285</td>\n",
              "      <td>0.063449</td>\n",
              "    </tr>\n",
              "    <tr>\n",
              "      <th>min</th>\n",
              "      <td>0.015128</td>\n",
              "      <td>0.112546</td>\n",
              "    </tr>\n",
              "    <tr>\n",
              "      <th>25%</th>\n",
              "      <td>0.052743</td>\n",
              "      <td>0.160680</td>\n",
              "    </tr>\n",
              "    <tr>\n",
              "      <th>50%</th>\n",
              "      <td>0.064622</td>\n",
              "      <td>0.217855</td>\n",
              "    </tr>\n",
              "    <tr>\n",
              "      <th>75%</th>\n",
              "      <td>0.101526</td>\n",
              "      <td>0.229270</td>\n",
              "    </tr>\n",
              "    <tr>\n",
              "      <th>max</th>\n",
              "      <td>0.168822</td>\n",
              "      <td>0.385517</td>\n",
              "    </tr>\n",
              "  </tbody>\n",
              "</table>\n",
              "</div>"
            ],
            "text/plain": [
              "              VIS         NIR\n",
              "count  160.000000  160.000000\n",
              "mean     0.079868    0.205449\n",
              "std      0.044285    0.063449\n",
              "min      0.015128    0.112546\n",
              "25%      0.052743    0.160680\n",
              "50%      0.064622    0.217855\n",
              "75%      0.101526    0.229270\n",
              "max      0.168822    0.385517"
            ]
          },
          "metadata": {
            "tags": []
          },
          "execution_count": 7
        }
      ]
    },
    {
      "cell_type": "code",
      "metadata": {
        "id": "hmubt5Vj5jpV",
        "colab_type": "code",
        "outputId": "4823c583-b73e-41c5-bf69-971ee947380c",
        "colab": {
          "base_uri": "https://localhost:8080/",
          "height": 369
        }
      },
      "source": [
        "sb.catplot(x=\"classes\", y=\"NIR\", kind=\"boxen\",\n",
        "            data=spc.sort_values(\"classes\"));"
      ],
      "execution_count": 8,
      "outputs": [
        {
          "output_type": "display_data",
          "data": {
            "image/png": "[encoded data removed]",
            "text/plain": [
              "<Figure size 360x360 with 1 Axes>"
            ]
          },
          "metadata": {
            "tags": []
          }
        }
      ]
    },
    {
      "cell_type": "code",
      "metadata": {
        "id": "X9S3MIGU6_Dx",
        "colab_type": "code",
        "outputId": "03219526-cb5c-4a44-fe0a-ef420f78ae35",
        "colab": {
          "base_uri": "https://localhost:8080/",
          "height": 369
        }
      },
      "source": [
        "sb.catplot(x=\"classes\", y=\"VIS\", kind=\"boxen\",\n",
        "            data=spc.sort_values(\"classes\"));"
      ],
      "execution_count": 9,
      "outputs": [
        {
          "output_type": "display_data",
          "data": {
            "image/png": "[encoded data removed]",
            "text/plain": [
              "<Figure size 360x360 with 1 Axes>"
            ]
          },
          "metadata": {
            "tags": []
          }
        }
      ]
    },
    {
      "cell_type": "code",
      "metadata": {
        "id": "aGpXq_W3r7rK",
        "colab_type": "code",
        "outputId": "ee345b57-1e0a-40cb-b8bc-eb9ca1ebf780",
        "colab": {
          "base_uri": "https://localhost:8080/",
          "height": 386
        }
      },
      "source": [
        "sb.catplot(data=spc, orient=\"v\",kind=\"box\")\n",
        "#sb.stripplot(data=spc)\n",
        "#sb.boxenplot(data=spc)\n"
      ],
      "execution_count": 10,
      "outputs": [
        {
          "output_type": "execute_result",
          "data": {
            "text/plain": [
              "<seaborn.axisgrid.FacetGrid at 0x7fee906ee400>"
            ]
          },
          "metadata": {
            "tags": []
          },
          "execution_count": 10
        },
        {
          "output_type": "display_data",
          "data": {
            "image/png": "[encoded data removed]",
            "text/plain": [
              "<Figure size 360x360 with 1 Axes>"
            ]
          },
          "metadata": {
            "tags": []
          }
        }
      ]
    },
    {
      "cell_type": "code",
      "metadata": {
        "id": "dNqq9nZtr7rS",
        "colab_type": "code",
        "outputId": "fd77167a-fa5d-4d65-fc86-c105c7d74902",
        "colab": {
          "base_uri": "https://localhost:8080/",
          "height": 386
        }
      },
      "source": [
        "sb.pairplot(data=spc, hue='classes',kind = \"scatter\")"
      ],
      "execution_count": 0,
      "outputs": [
        {
          "output_type": "execute_result",
          "data": {
            "text/plain": [
              "<seaborn.axisgrid.PairGrid at 0x7fa92a30e320>"
            ]
          },
          "metadata": {
            "tags": []
          },
          "execution_count": 39
        },
        {
          "output_type": "display_data",
          "data": {
            "image/png": "[encoded data removed]",
            "text/plain": [
              "<Figure size 459.625x360 with 6 Axes>"
            ]
          },
          "metadata": {
            "tags": []
          }
        }
      ]
    },
    {
      "cell_type": "markdown",
      "metadata": {
        "id": "IXFed36hr7rY",
        "colab_type": "text"
      },
      "source": [
        "# Selecão dos valores para classificação supervisionada em um array no Numpy"
      ]
    },
    {
      "cell_type": "code",
      "metadata": {
        "id": "2sdS38kor7ra",
        "colab_type": "code",
        "outputId": "dc352f57-810e-4606-b297-64c9a647b5e4",
        "colab": {
          "base_uri": "https://localhost:8080/",
          "height": 340
        }
      },
      "source": [
        "x = np.array(spc.drop('classes',1))\n",
        "x[1:20]"
      ],
      "execution_count": 14,
      "outputs": [
        {
          "output_type": "execute_result",
          "data": {
            "text/plain": [
              "array([[0.06764623, 0.3703699 ],\n",
              "       [0.06829264, 0.3703699 ],\n",
              "       [0.0685303 , 0.37193987],\n",
              "       [0.06823197, 0.37061186],\n",
              "       [0.06801352, 0.36895388],\n",
              "       [0.06788966, 0.3666568 ],\n",
              "       [0.06782207, 0.36671311],\n",
              "       [0.06841119, 0.37139418],\n",
              "       [0.06870988, 0.37211661],\n",
              "       [0.05285735, 0.15115339],\n",
              "       [0.05720971, 0.16540832],\n",
              "       [0.0585804 , 0.16865555],\n",
              "       [0.05670028, 0.16314804],\n",
              "       [0.05282191, 0.15095999],\n",
              "       [0.04935865, 0.14030188],\n",
              "       [0.04849751, 0.13711519],\n",
              "       [0.04749549, 0.13400405],\n",
              "       [0.04570688, 0.12917283],\n",
              "       [0.04789454, 0.13581435]])"
            ]
          },
          "metadata": {
            "tags": []
          },
          "execution_count": 14
        }
      ]
    },
    {
      "cell_type": "markdown",
      "metadata": {
        "id": "xTCk8eZvr7rg",
        "colab_type": "text"
      },
      "source": [
        "# Seleção das \"Classes\" para uma array através do Numpy"
      ]
    },
    {
      "cell_type": "code",
      "metadata": {
        "id": "iEP8Nb8ur7rh",
        "colab_type": "code",
        "outputId": "13102ca9-3c5c-4508-db53-3f7c8f6ea543",
        "colab": {
          "base_uri": "https://localhost:8080/",
          "height": 136
        }
      },
      "source": [
        "y = np.array(spc.classes)\n",
        "y[1:40]"
      ],
      "execution_count": 15,
      "outputs": [
        {
          "output_type": "execute_result",
          "data": {
            "text/plain": [
              "array(['Grama', 'Grama', 'Grama', 'Grama', 'Grama', 'Grama', 'Grama',\n",
              "       'Grama', 'Grama', 'Solo exposto', 'Solo exposto', 'Solo exposto',\n",
              "       'Solo exposto', 'Solo exposto', 'Solo exposto', 'Solo exposto',\n",
              "       'Solo exposto', 'Solo exposto', 'Solo exposto', 'Brita', 'Brita',\n",
              "       'Brita', 'Brita', 'Brita', 'Brita', 'Brita', 'Brita', 'Brita',\n",
              "       'Brita', 'Grama', 'Grama', 'Grama', 'Grama', 'Grama', 'Grama',\n",
              "       'Grama', 'Grama', 'Grama', 'Grama'], dtype=object)"
            ]
          },
          "metadata": {
            "tags": []
          },
          "execution_count": 15
        }
      ]
    },
    {
      "cell_type": "markdown",
      "metadata": {
        "id": "TuKyTfjmr7rn",
        "colab_type": "text"
      },
      "source": [
        "# Bibliotecas de Modelagem\n"
      ]
    },
    {
      "cell_type": "code",
      "metadata": {
        "id": "f-raGzFTr7ro",
        "colab_type": "code",
        "colab": {}
      },
      "source": [
        "from sklearn.neighbors import KNeighborsClassifier\n",
        "from sklearn.tree import DecisionTreeClassifier\n",
        "from sklearn.ensemble import AdaBoostClassifier\n",
        "from sklearn.ensemble import RandomForestClassifier\n",
        "\n",
        "# Importando a função train_test_split \n",
        "from sklearn.model_selection import train_test_split\n",
        "\n",
        "#Importando o módulo de metricas de cálculo acurácia do scikit-learn\n",
        "from sklearn import metrics\n",
        "\n",
        "\n",
        "# Dividindo o banco de dados em treinamento e teste (x,y, tamanho)\n",
        "X_train, X_test, y_train, y_test = train_test_split(x, y, test_size=0.3) # 70% para treino e 30% teste\n",
        "\n",
        "knn = KNeighborsClassifier(n_neighbors=5, algorithm ='ball_tree')\n",
        "dtr = DecisionTreeClassifier()\n",
        "adb = AdaBoostClassifier(n_estimators=20, random_state=1)\n",
        "rdf = RandomForestClassifier(n_estimators=100, max_depth=2, random_state=0)"
      ],
      "execution_count": 0,
      "outputs": []
    },
    {
      "cell_type": "markdown",
      "metadata": {
        "id": "W62F8wrjr7rx",
        "colab_type": "text"
      },
      "source": [
        "# Treinamento  do classificador"
      ]
    },
    {
      "cell_type": "code",
      "metadata": {
        "id": "ta3GmUiBr7ry",
        "colab_type": "code",
        "colab": {
          "base_uri": "https://localhost:8080/",
          "height": 136
        },
        "outputId": "b58b0833-4a94-4649-bf91-6d4a393c36af"
      },
      "source": [
        "knn.fit(X_train,y_train)\n",
        "dtr.fit(X_train,y_train)\n",
        "adb.fit(X_train,y_train)\n",
        "rdf.fit(X_train,y_train)"
      ],
      "execution_count": 22,
      "outputs": [
        {
          "output_type": "execute_result",
          "data": {
            "text/plain": [
              "RandomForestClassifier(bootstrap=True, class_weight=None, criterion='gini',\n",
              "                       max_depth=2, max_features='auto', max_leaf_nodes=None,\n",
              "                       min_impurity_decrease=0.0, min_impurity_split=None,\n",
              "                       min_samples_leaf=1, min_samples_split=2,\n",
              "                       min_weight_fraction_leaf=0.0, n_estimators=100,\n",
              "                       n_jobs=None, oob_score=False, random_state=0, verbose=0,\n",
              "                       warm_start=False)"
            ]
          },
          "metadata": {
            "tags": []
          },
          "execution_count": 22
        }
      ]
    },
    {
      "cell_type": "markdown",
      "metadata": {
        "id": "3rwPE7s_r7r8",
        "colab_type": "text"
      },
      "source": [
        "# Predição de classe através de uma informação de entrada"
      ]
    },
    {
      "cell_type": "code",
      "metadata": {
        "id": "nVLYP2u3r7r_",
        "colab_type": "code",
        "colab": {}
      },
      "source": [
        "y_predknn = knn.predict(X_test)\n",
        "y_preddtr = dtr.predict(X_test)\n",
        "y_predadb = adb.predict(X_test)\n",
        "y_predrdf = rdf.predict(X_test)"
      ],
      "execution_count": 0,
      "outputs": []
    },
    {
      "cell_type": "markdown",
      "metadata": {
        "id": "pAw77AzkUXyg",
        "colab_type": "text"
      },
      "source": [
        "# Acurácia dos dados preditos sobre os dados  de teste (y_teste)"
      ]
    },
    {
      "cell_type": "code",
      "metadata": {
        "id": "tpGau0v3r7sF",
        "colab_type": "code",
        "outputId": "6b24029c-7fca-43d2-b268-fa4c3ee7e136",
        "colab": {
          "base_uri": "https://localhost:8080/",
          "height": 85
        }
      },
      "source": [
        "# Modelo de acurácia dos dados preditos sobre os dados  de teste (y_teste)\n",
        "print(\" K-nearest Neighbors :\",metrics.accuracy_score(y_test, y_predknn)) # método knn\n",
        "print(\" Decision Trees      :\",metrics.accuracy_score(y_test, y_preddtr)) # método de árvore de decisão\n",
        "print(\" Ada Boost           :\",metrics.accuracy_score(y_test, y_predadb)) # método de adaboost\n",
        "print(\" Random Forest       :\",metrics.accuracy_score(y_test, y_predrdf)) # método de randomForest"
      ],
      "execution_count": 20,
      "outputs": [
        {
          "output_type": "stream",
          "text": [
            " K-nearest Neighbors : 0.9791666666666666\n",
            " Decision Trees      : 1.0\n",
            " Ada Boost           : 0.4791666666666667\n",
            " Random Forest       : 0.875\n"
          ],
          "name": "stdout"
        }
      ]
    },
    {
      "cell_type": "markdown",
      "metadata": {
        "id": "4RI3aSfhUy4A",
        "colab_type": "text"
      },
      "source": [
        "# Matriz de confusão"
      ]
    },
    {
      "cell_type": "code",
      "metadata": {
        "id": "horYzoPBr7sT",
        "colab_type": "code",
        "outputId": "3f5e9dde-d13f-457a-c371-69c8c9660195",
        "colab": {
          "base_uri": "https://localhost:8080/",
          "height": 493
        }
      },
      "source": [
        "from sklearn.metrics import confusion_matrix\n",
        "print(\"==\",\" KNN \",\"=\",metrics.accuracy_score(y_test, y_predknn))\n",
        "print(confusion_matrix(y_test, y_predknn))\n",
        "print(\"==\",\" DTR \",\"=\",metrics.accuracy_score(y_test, y_preddtr))\n",
        "print(confusion_matrix(y_test, y_preddtr))\n",
        "print(\"==\",\" ADB \",\"=\",metrics.accuracy_score(y_test, y_predadb))\n",
        "print(confusion_matrix(y_test, y_predadb))\n",
        "print(\"==\",\" RDF \",\"=\",metrics.accuracy_score(y_test, y_predrdf))\n",
        "print(confusion_matrix(y_test, y_predrdf))     "
      ],
      "execution_count": 21,
      "outputs": [
        {
          "output_type": "stream",
          "text": [
            "==  KNN  = 0.9791666666666666\n",
            "[[ 7  1  0  0  0  0]\n",
            " [ 0  8  0  0  0  0]\n",
            " [ 0  0  6  0  0  0]\n",
            " [ 0  0  0 11  0  0]\n",
            " [ 0  0  0  0 11  0]\n",
            " [ 0  0  0  0  0  4]]\n",
            "==  DTR  = 1.0\n",
            "[[ 8  0  0  0  0  0]\n",
            " [ 0  8  0  0  0  0]\n",
            " [ 0  0  6  0  0  0]\n",
            " [ 0  0  0 11  0  0]\n",
            " [ 0  0  0  0 11  0]\n",
            " [ 0  0  0  0  0  4]]\n",
            "==  ADB  = 0.4791666666666667\n",
            "[[ 8  0  0  0  0  0]\n",
            " [ 8  0  0  0  0  0]\n",
            " [ 0  0  0  6  0  0]\n",
            " [ 0  0  0 11  0  0]\n",
            " [ 0  0  0 11  0  0]\n",
            " [ 0  0  0  0  0  4]]\n",
            "==  RDF  = 0.875\n",
            "[[ 7  1  0  0  0  0]\n",
            " [ 0  8  0  0  0  0]\n",
            " [ 0  0  5  1  0  0]\n",
            " [ 0  0  0 11  0  0]\n",
            " [ 0  0  0  0 11  0]\n",
            " [ 0  0  4  0  0  0]]\n"
          ],
          "name": "stdout"
        }
      ]
    },
    {
      "cell_type": "code",
      "metadata": {
        "id": "BTzcYpDJr7sd",
        "colab_type": "code",
        "colab": {}
      },
      "source": [
        ""
      ],
      "execution_count": 0,
      "outputs": []
    },
    {
      "cell_type": "code",
      "metadata": {
        "id": "dPxP96nCr7sh",
        "colab_type": "code",
        "colab": {}
      },
      "source": [
        ""
      ],
      "execution_count": 0,
      "outputs": []
    }
  ]
}